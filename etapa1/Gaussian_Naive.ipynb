{
 "cells": [
  {
   "cell_type": "code",
   "execution_count": 39,
   "metadata": {},
   "outputs": [],
   "source": [
    "import pandas as pd\n",
    "import numpy as np"
   ]
  },
  {
   "cell_type": "code",
   "execution_count": 40,
   "metadata": {},
   "outputs": [],
   "source": [
    "# nossa implementação segue as formulas matematicas vista em: https://en.wikipedia.org/wiki/Naive_Bayes_classifier#Examples\n",
    "# e adaptando algumas coisas vistas em https://machinelearningmastery.com/classification-as-conditional-probability-and-the-naive-bayes-algorithm/ \n",
    "# onde a implementação mostrada era para naive bayes\n",
    "\n",
    "class gnbNaiveBayer:\n",
    "  def __init__(self, prior=None, n_class=None, \n",
    "               mean=None, variance = None, classes=None):\n",
    "    # suposição prévia de probabilidade\n",
    "    self.prior = prior\n",
    "    # Quantidade de classes unicas\n",
    "    self.n_class = n_class\n",
    "    # Media do valor x\n",
    "    self.mean = mean\n",
    "    # varianca do valor x\n",
    "    self.variance = variance\n",
    "    # Classes de target label\n",
    "    self.classes = classes\n",
    "\n",
    "\n",
    "  # funcao para treinamento do algoritmo\n",
    "  def fit(self, x, y):\n",
    "    # obtemos a média e a variância dos valores de x\n",
    "    self.x = x\n",
    "    self.y = y\n",
    "    self.mean = np.array(x.groupby(by=y).mean())\n",
    "    self.variance = np.array(x.groupby(by=y).var())\n",
    "    self.n_class = len(np.unique(y))\n",
    "    self.classes = np.unique(y)\n",
    "    self.prior = 1/self.n_class\n",
    "    self.mean_variance()\n",
    "    return self\n",
    "\n",
    "\n",
    "  def predict(self, X):\n",
    "    self.X = X\n",
    "    # Aqui é feito o calculo das probabilidades\n",
    "\n",
    "    # média e a variância dividida nas classes.\n",
    "\n",
    "    split_class = self.split()\n",
    "    probability = []\n",
    "    for i in range(self.n_class):\n",
    "      # pega cada classe infomrada como unica para o algoritmo\n",
    "      class_get = split_class[i]\n",
    "      for i in range(len(class_get)):\n",
    "        # primeiro valor na classe\n",
    "        class_get_x_mean = class_get[i][0]\n",
    "        class_get_x_var = class_get[i][1]\n",
    "        x_value = X[i]\n",
    "        # Calcula as probabilidades em cada classe. \n",
    "        probability.append([self.gnb_formula(x_value, class_get_x_mean, \n",
    "                                   class_get_x_var)])\n",
    "\n",
    "    # transforma as probabilidade em array\n",
    "\n",
    "    prob_array = np.array(probability)\n",
    "\n",
    "    # Quebra a probabilidade em suas classes novamente\n",
    "\n",
    "    prob_split = np.vsplit(prob_array, self.n_class)\n",
    "\n",
    "    # Calcula a probabilidade final\n",
    "\n",
    "    final_probabilities = []\n",
    "\n",
    "    for i in prob_split:\n",
    "      class_prob = np.prod(i) * self.prior\n",
    "      final_probabilities.append(class_prob)\n",
    "\n",
    "    # probabilidade maxima\n",
    "    maximum_prob = max(final_probabilities)\n",
    "\n",
    "    # Index da probabilidade maxima\n",
    "    prob_index = final_probabilities.index(maximum_prob)\n",
    "\n",
    "    # Usando o index da probabilidade maxima para pegar a classe correspondente\n",
    "    prediction = self.classes[prob_index]\n",
    "\n",
    "    return prediction\n",
    "\n",
    "\n",
    "  def gnb_formula(self, x_val, x_mean, x_var):\n",
    "    self.x_val = x_val\n",
    "    self.x_mean = x_mean\n",
    "    self.x_var = x_var\n",
    "\n",
    "    pi = np.pi\n",
    "    # log natural\n",
    "    e = np.e\n",
    "\n",
    "    # 1 dividido pela raiz quadrada 2 * pi * y_variance\n",
    "    equation_1 = 1/(np.sqrt(2 * pi * x_var))\n",
    "    \n",
    "    # Denominador da equacao\n",
    "    denom = 2 * x_var\n",
    "\n",
    "    numerator = (x_val - x_mean) ** 2\n",
    "    expo = np.exp(-(numerator/denom))\n",
    "    prob = equation_1 * expo\n",
    "\n",
    "    return prob\n",
    "\n",
    "  def mean_variance(self):\n",
    "    # media e variancia do dataset de treino \n",
    "    media = np.array(self.mean)\n",
    "    varience = np.array(self.variance)\n",
    "\n",
    "    # coloca em uma lista a combinação de  média e a variância\n",
    "    self.mean_variance = []\n",
    "    for i in range(len(media)):\n",
    "      m_row = media[i]\n",
    "      v_row = varience[i]\n",
    "      for a, b in enumerate(m_row):\n",
    "        mean = b\n",
    "        var = v_row[a]\n",
    "        self.mean_variance.append([mean, var])\n",
    "\n",
    "  def split(self):\n",
    "    mean = self.mean_variance\n",
    "    numberOfClass = self.n_class\n",
    "    spt = np.vsplit(np.array(mean), numberOfClass)\n",
    "    return spt"
   ]
  },
  {
   "cell_type": "markdown",
   "metadata": {},
   "source": [
    "# Pré-processamento dados pinguins PARA GAUSSIAN"
   ]
  },
  {
   "cell_type": "code",
   "execution_count": 41,
   "metadata": {},
   "outputs": [],
   "source": [
    "pinguins = pd.read_csv(\"../penguins.csv\")\n",
    "pinguins = pinguins.sample(frac = 1)\n",
    "target_name = \"Species\""
   ]
  },
  {
   "cell_type": "code",
   "execution_count": 42,
   "metadata": {},
   "outputs": [
    {
     "name": "stdout",
     "output_type": "stream",
     "text": [
      "152\n",
      "124\n",
      "68\n"
     ]
    }
   ],
   "source": [
    "#Numero por classe\n",
    "label_1 = pinguins[pinguins['Species'] == 'Adelie Penguin (Pygoscelis adeliae)']\n",
    "print(len(label_1))\n",
    "label_2 = pinguins[pinguins['Species'] == 'Gentoo penguin (Pygoscelis papua)']\n",
    "print(len(label_2))\n",
    "label_3 = pinguins[pinguins['Species'] == 'Chinstrap penguin (Pygoscelis antarctica)']\n",
    "print(len(label_3))"
   ]
  },
  {
   "cell_type": "code",
   "execution_count": 43,
   "metadata": {},
   "outputs": [],
   "source": [
    "# Realizando random nos dados antes de remover\n",
    "label_1 = label_1.sample(frac = 1)\n",
    "label_2 = label_2.sample(frac = 1)"
   ]
  },
  {
   "cell_type": "code",
   "execution_count": 44,
   "metadata": {},
   "outputs": [],
   "source": [
    "label_1 = label_1.iloc[0:152]\n",
    "label_2 = label_2.iloc[0:124]"
   ]
  },
  {
   "cell_type": "code",
   "execution_count": 45,
   "metadata": {},
   "outputs": [],
   "source": [
    "newDataset = pd.concat([label_1,label_2,label_3])\n",
    "newDataset = newDataset.sample(frac = 1)\n"
   ]
  },
  {
   "cell_type": "code",
   "execution_count": 46,
   "metadata": {},
   "outputs": [
    {
     "name": "stdout",
     "output_type": "stream",
     "text": [
      "344\n"
     ]
    }
   ],
   "source": [
    "print(len(newDataset))"
   ]
  },
  {
   "cell_type": "code",
   "execution_count": 47,
   "metadata": {},
   "outputs": [],
   "source": [
    "y_values =  newDataset.drop(columns=[\"Culmen Length (mm)\", \"Culmen Depth (mm)\", \"Flipper Length (mm)\",\"studyName\",\"Sample Number\",\"Region\",\"Island\",\"Stage\",\"Individual ID\", \"Clutch Completion\",\"Date Egg\", \"Sex\", \"Delta 15 N (o/oo)\", \"Delta 13 C (o/oo)\", \"Comments\", \"Body Mass (g)\"  ])\n",
    "x_values =  newDataset.drop(columns=[target_name,\"studyName\",\"Sample Number\",\"Region\",\"Island\",\"Stage\",\"Individual ID\", \"Clutch Completion\",\"Date Egg\", \"Sex\", \"Delta 15 N (o/oo)\", \"Delta 13 C (o/oo)\", \"Comments\", \"Body Mass (g)\"  ])"
   ]
  },
  {
   "cell_type": "code",
   "execution_count": 48,
   "metadata": {},
   "outputs": [
    {
     "data": {
      "text/html": [
       "<div>\n",
       "<style scoped>\n",
       "    .dataframe tbody tr th:only-of-type {\n",
       "        vertical-align: middle;\n",
       "    }\n",
       "\n",
       "    .dataframe tbody tr th {\n",
       "        vertical-align: top;\n",
       "    }\n",
       "\n",
       "    .dataframe thead th {\n",
       "        text-align: right;\n",
       "    }\n",
       "</style>\n",
       "<table border=\"1\" class=\"dataframe\">\n",
       "  <thead>\n",
       "    <tr style=\"text-align: right;\">\n",
       "      <th></th>\n",
       "      <th>Species</th>\n",
       "    </tr>\n",
       "  </thead>\n",
       "  <tbody>\n",
       "    <tr>\n",
       "      <th>246</th>\n",
       "      <td>Gentoo penguin (Pygoscelis papua)</td>\n",
       "    </tr>\n",
       "    <tr>\n",
       "      <th>124</th>\n",
       "      <td>Adelie Penguin (Pygoscelis adeliae)</td>\n",
       "    </tr>\n",
       "    <tr>\n",
       "      <th>333</th>\n",
       "      <td>Chinstrap penguin (Pygoscelis antarctica)</td>\n",
       "    </tr>\n",
       "    <tr>\n",
       "      <th>98</th>\n",
       "      <td>Adelie Penguin (Pygoscelis adeliae)</td>\n",
       "    </tr>\n",
       "    <tr>\n",
       "      <th>115</th>\n",
       "      <td>Adelie Penguin (Pygoscelis adeliae)</td>\n",
       "    </tr>\n",
       "  </tbody>\n",
       "</table>\n",
       "</div>"
      ],
      "text/plain": [
       "                                       Species\n",
       "246          Gentoo penguin (Pygoscelis papua)\n",
       "124        Adelie Penguin (Pygoscelis adeliae)\n",
       "333  Chinstrap penguin (Pygoscelis antarctica)\n",
       "98         Adelie Penguin (Pygoscelis adeliae)\n",
       "115        Adelie Penguin (Pygoscelis adeliae)"
      ]
     },
     "execution_count": 48,
     "metadata": {},
     "output_type": "execute_result"
    }
   ],
   "source": [
    "y_values.head()"
   ]
  },
  {
   "cell_type": "code",
   "execution_count": 49,
   "metadata": {},
   "outputs": [
    {
     "data": {
      "text/html": [
       "<div>\n",
       "<style scoped>\n",
       "    .dataframe tbody tr th:only-of-type {\n",
       "        vertical-align: middle;\n",
       "    }\n",
       "\n",
       "    .dataframe tbody tr th {\n",
       "        vertical-align: top;\n",
       "    }\n",
       "\n",
       "    .dataframe thead th {\n",
       "        text-align: right;\n",
       "    }\n",
       "</style>\n",
       "<table border=\"1\" class=\"dataframe\">\n",
       "  <thead>\n",
       "    <tr style=\"text-align: right;\">\n",
       "      <th></th>\n",
       "      <th>Culmen Length (mm)</th>\n",
       "      <th>Culmen Depth (mm)</th>\n",
       "      <th>Flipper Length (mm)</th>\n",
       "    </tr>\n",
       "  </thead>\n",
       "  <tbody>\n",
       "    <tr>\n",
       "      <th>246</th>\n",
       "      <td>44.5</td>\n",
       "      <td>14.7</td>\n",
       "      <td>214.0</td>\n",
       "    </tr>\n",
       "    <tr>\n",
       "      <th>124</th>\n",
       "      <td>35.2</td>\n",
       "      <td>15.9</td>\n",
       "      <td>186.0</td>\n",
       "    </tr>\n",
       "    <tr>\n",
       "      <th>333</th>\n",
       "      <td>49.3</td>\n",
       "      <td>19.9</td>\n",
       "      <td>203.0</td>\n",
       "    </tr>\n",
       "    <tr>\n",
       "      <th>98</th>\n",
       "      <td>33.1</td>\n",
       "      <td>16.1</td>\n",
       "      <td>178.0</td>\n",
       "    </tr>\n",
       "    <tr>\n",
       "      <th>115</th>\n",
       "      <td>42.7</td>\n",
       "      <td>18.3</td>\n",
       "      <td>196.0</td>\n",
       "    </tr>\n",
       "  </tbody>\n",
       "</table>\n",
       "</div>"
      ],
      "text/plain": [
       "     Culmen Length (mm)  Culmen Depth (mm)  Flipper Length (mm)\n",
       "246                44.5               14.7                214.0\n",
       "124                35.2               15.9                186.0\n",
       "333                49.3               19.9                203.0\n",
       "98                 33.1               16.1                178.0\n",
       "115                42.7               18.3                196.0"
      ]
     },
     "execution_count": 49,
     "metadata": {},
     "output_type": "execute_result"
    }
   ],
   "source": [
    "x_values.head()"
   ]
  },
  {
   "cell_type": "code",
   "execution_count": 50,
   "metadata": {},
   "outputs": [],
   "source": [
    "#quebra os dados em 70 30\n",
    "y_values_train = y_values.iloc[0:240]\n",
    "x_value_train = x_values.iloc[0:240]\n",
    "y_value_test = y_values.iloc[240:344]\n",
    "x_value_test = x_values.iloc[240:344]\n"
   ]
  },
  {
   "cell_type": "code",
   "execution_count": 51,
   "metadata": {},
   "outputs": [
    {
     "name": "stdout",
     "output_type": "stream",
     "text": [
      "105\n",
      "89\n",
      "46\n"
     ]
    }
   ],
   "source": [
    "#Numero por classe treino\n",
    "label_1 = y_values_train[y_values_train['Species'] == 'Adelie Penguin (Pygoscelis adeliae)']\n",
    "print(len(label_1))\n",
    "label_2 = y_values_train[y_values_train['Species'] == 'Gentoo penguin (Pygoscelis papua)']\n",
    "print(len(label_2))\n",
    "label_3 = y_values_train[y_values_train['Species'] == 'Chinstrap penguin (Pygoscelis antarctica)']\n",
    "print(len(label_3))"
   ]
  },
  {
   "cell_type": "code",
   "execution_count": 52,
   "metadata": {},
   "outputs": [
    {
     "name": "stdout",
     "output_type": "stream",
     "text": [
      "47\n",
      "35\n",
      "22\n"
     ]
    }
   ],
   "source": [
    "#Numero por classe teste\n",
    "label_1 = y_value_test[y_value_test['Species'] == 'Adelie Penguin (Pygoscelis adeliae)']\n",
    "print(len(label_1))\n",
    "label_2 = y_value_test[y_value_test['Species'] == 'Gentoo penguin (Pygoscelis papua)']\n",
    "print(len(label_2))\n",
    "label_3 = y_value_test[y_value_test['Species'] == 'Chinstrap penguin (Pygoscelis antarctica)']\n",
    "print(len(label_3))"
   ]
  },
  {
   "cell_type": "code",
   "execution_count": 53,
   "metadata": {},
   "outputs": [
    {
     "data": {
      "text/html": [
       "<div>\n",
       "<style scoped>\n",
       "    .dataframe tbody tr th:only-of-type {\n",
       "        vertical-align: middle;\n",
       "    }\n",
       "\n",
       "    .dataframe tbody tr th {\n",
       "        vertical-align: top;\n",
       "    }\n",
       "\n",
       "    .dataframe thead th {\n",
       "        text-align: right;\n",
       "    }\n",
       "</style>\n",
       "<table border=\"1\" class=\"dataframe\">\n",
       "  <thead>\n",
       "    <tr style=\"text-align: right;\">\n",
       "      <th></th>\n",
       "      <th>Culmen Length (mm)</th>\n",
       "      <th>Culmen Depth (mm)</th>\n",
       "      <th>Flipper Length (mm)</th>\n",
       "    </tr>\n",
       "  </thead>\n",
       "  <tbody>\n",
       "    <tr>\n",
       "      <th>246</th>\n",
       "      <td>44.5</td>\n",
       "      <td>14.7</td>\n",
       "      <td>214.0</td>\n",
       "    </tr>\n",
       "    <tr>\n",
       "      <th>124</th>\n",
       "      <td>35.2</td>\n",
       "      <td>15.9</td>\n",
       "      <td>186.0</td>\n",
       "    </tr>\n",
       "    <tr>\n",
       "      <th>333</th>\n",
       "      <td>49.3</td>\n",
       "      <td>19.9</td>\n",
       "      <td>203.0</td>\n",
       "    </tr>\n",
       "    <tr>\n",
       "      <th>98</th>\n",
       "      <td>33.1</td>\n",
       "      <td>16.1</td>\n",
       "      <td>178.0</td>\n",
       "    </tr>\n",
       "    <tr>\n",
       "      <th>115</th>\n",
       "      <td>42.7</td>\n",
       "      <td>18.3</td>\n",
       "      <td>196.0</td>\n",
       "    </tr>\n",
       "  </tbody>\n",
       "</table>\n",
       "</div>"
      ],
      "text/plain": [
       "     Culmen Length (mm)  Culmen Depth (mm)  Flipper Length (mm)\n",
       "246                44.5               14.7                214.0\n",
       "124                35.2               15.9                186.0\n",
       "333                49.3               19.9                203.0\n",
       "98                 33.1               16.1                178.0\n",
       "115                42.7               18.3                196.0"
      ]
     },
     "execution_count": 53,
     "metadata": {},
     "output_type": "execute_result"
    }
   ],
   "source": [
    "x_value_train.head()"
   ]
  },
  {
   "cell_type": "code",
   "execution_count": 54,
   "metadata": {},
   "outputs": [
    {
     "data": {
      "text/html": [
       "<div>\n",
       "<style scoped>\n",
       "    .dataframe tbody tr th:only-of-type {\n",
       "        vertical-align: middle;\n",
       "    }\n",
       "\n",
       "    .dataframe tbody tr th {\n",
       "        vertical-align: top;\n",
       "    }\n",
       "\n",
       "    .dataframe thead th {\n",
       "        text-align: right;\n",
       "    }\n",
       "</style>\n",
       "<table border=\"1\" class=\"dataframe\">\n",
       "  <thead>\n",
       "    <tr style=\"text-align: right;\">\n",
       "      <th></th>\n",
       "      <th>Species</th>\n",
       "    </tr>\n",
       "  </thead>\n",
       "  <tbody>\n",
       "    <tr>\n",
       "      <th>246</th>\n",
       "      <td>Gentoo penguin (Pygoscelis papua)</td>\n",
       "    </tr>\n",
       "    <tr>\n",
       "      <th>124</th>\n",
       "      <td>Adelie Penguin (Pygoscelis adeliae)</td>\n",
       "    </tr>\n",
       "    <tr>\n",
       "      <th>333</th>\n",
       "      <td>Chinstrap penguin (Pygoscelis antarctica)</td>\n",
       "    </tr>\n",
       "    <tr>\n",
       "      <th>98</th>\n",
       "      <td>Adelie Penguin (Pygoscelis adeliae)</td>\n",
       "    </tr>\n",
       "    <tr>\n",
       "      <th>115</th>\n",
       "      <td>Adelie Penguin (Pygoscelis adeliae)</td>\n",
       "    </tr>\n",
       "  </tbody>\n",
       "</table>\n",
       "</div>"
      ],
      "text/plain": [
       "                                       Species\n",
       "246          Gentoo penguin (Pygoscelis papua)\n",
       "124        Adelie Penguin (Pygoscelis adeliae)\n",
       "333  Chinstrap penguin (Pygoscelis antarctica)\n",
       "98         Adelie Penguin (Pygoscelis adeliae)\n",
       "115        Adelie Penguin (Pygoscelis adeliae)"
      ]
     },
     "execution_count": 54,
     "metadata": {},
     "output_type": "execute_result"
    }
   ],
   "source": [
    "y_values_train.head()"
   ]
  },
  {
   "cell_type": "code",
   "execution_count": 55,
   "metadata": {},
   "outputs": [],
   "source": [
    "#converte as classes label em numericas retornando um array em formato de array numerico\n",
    "\n",
    "def convertStringClassToNumber(dataset):\n",
    "    convertClass = []\n",
    "    for index, row in dataset.iterrows():\n",
    "        if(row['Species'] == \"Adelie Penguin (Pygoscelis adeliae)\"):\n",
    "            convertClass.append(0)\n",
    "        elif(row['Species'] == \"Gentoo penguin (Pygoscelis papua)\"):\n",
    "             convertClass.append(1)\n",
    "        else:\n",
    "             convertClass.append(2)\n",
    "            \n",
    "    return convertClass\n",
    "\n",
    "y_values_train_knn = convertStringClassToNumber(y_values_train)\n",
    "convertText = convertStringClassToNumber(y_values_train)\n",
    "y_values_train = pd.Series(convertText)\n",
    "convertText = convertStringClassToNumber(y_value_test)\n",
    "y_value_test = pd.Series(convertText)"
   ]
  },
  {
   "cell_type": "code",
   "execution_count": 56,
   "metadata": {},
   "outputs": [
    {
     "data": {
      "text/plain": [
       "0    1\n",
       "1    0\n",
       "2    2\n",
       "3    0\n",
       "4    0\n",
       "dtype: int64"
      ]
     },
     "execution_count": 56,
     "metadata": {},
     "output_type": "execute_result"
    }
   ],
   "source": [
    "y_values_train.head()"
   ]
  },
  {
   "cell_type": "code",
   "execution_count": 57,
   "metadata": {},
   "outputs": [
    {
     "data": {
      "text/html": [
       "<div>\n",
       "<style scoped>\n",
       "    .dataframe tbody tr th:only-of-type {\n",
       "        vertical-align: middle;\n",
       "    }\n",
       "\n",
       "    .dataframe tbody tr th {\n",
       "        vertical-align: top;\n",
       "    }\n",
       "\n",
       "    .dataframe thead th {\n",
       "        text-align: right;\n",
       "    }\n",
       "</style>\n",
       "<table border=\"1\" class=\"dataframe\">\n",
       "  <thead>\n",
       "    <tr style=\"text-align: right;\">\n",
       "      <th></th>\n",
       "      <th>Culmen Length (mm)</th>\n",
       "      <th>Culmen Depth (mm)</th>\n",
       "      <th>Flipper Length (mm)</th>\n",
       "    </tr>\n",
       "  </thead>\n",
       "  <tbody>\n",
       "    <tr>\n",
       "      <th>246</th>\n",
       "      <td>44.5</td>\n",
       "      <td>14.7</td>\n",
       "      <td>214.0</td>\n",
       "    </tr>\n",
       "    <tr>\n",
       "      <th>124</th>\n",
       "      <td>35.2</td>\n",
       "      <td>15.9</td>\n",
       "      <td>186.0</td>\n",
       "    </tr>\n",
       "    <tr>\n",
       "      <th>333</th>\n",
       "      <td>49.3</td>\n",
       "      <td>19.9</td>\n",
       "      <td>203.0</td>\n",
       "    </tr>\n",
       "    <tr>\n",
       "      <th>98</th>\n",
       "      <td>33.1</td>\n",
       "      <td>16.1</td>\n",
       "      <td>178.0</td>\n",
       "    </tr>\n",
       "    <tr>\n",
       "      <th>115</th>\n",
       "      <td>42.7</td>\n",
       "      <td>18.3</td>\n",
       "      <td>196.0</td>\n",
       "    </tr>\n",
       "  </tbody>\n",
       "</table>\n",
       "</div>"
      ],
      "text/plain": [
       "     Culmen Length (mm)  Culmen Depth (mm)  Flipper Length (mm)\n",
       "246                44.5               14.7                214.0\n",
       "124                35.2               15.9                186.0\n",
       "333                49.3               19.9                203.0\n",
       "98                 33.1               16.1                178.0\n",
       "115                42.7               18.3                196.0"
      ]
     },
     "execution_count": 57,
     "metadata": {},
     "output_type": "execute_result"
    }
   ],
   "source": [
    "x_value_train.head()"
   ]
  },
  {
   "cell_type": "code",
   "execution_count": 58,
   "metadata": {},
   "outputs": [
    {
     "data": {
      "text/plain": [
       "0    1\n",
       "1    0\n",
       "2    2\n",
       "3    0\n",
       "4    0\n",
       "dtype: int64"
      ]
     },
     "execution_count": 58,
     "metadata": {},
     "output_type": "execute_result"
    }
   ],
   "source": [
    "y_values_train.head()"
   ]
  },
  {
   "cell_type": "markdown",
   "metadata": {},
   "source": [
    "# Treinamento e Inferência\n"
   ]
  },
  {
   "cell_type": "code",
   "execution_count": 59,
   "metadata": {},
   "outputs": [],
   "source": [
    "gnb = gnbNaiveBayer()"
   ]
  },
  {
   "cell_type": "code",
   "execution_count": 60,
   "metadata": {},
   "outputs": [
    {
     "data": {
      "text/plain": [
       "<__main__.gnbNaiveBayer at 0x7f0448076d60>"
      ]
     },
     "execution_count": 60,
     "metadata": {},
     "output_type": "execute_result"
    }
   ],
   "source": [
    "gnb.fit(x_value_train, y_values_train)"
   ]
  },
  {
   "cell_type": "code",
   "execution_count": 61,
   "metadata": {},
   "outputs": [
    {
     "data": {
      "text/plain": [
       "0    0\n",
       "1    0\n",
       "2    1\n",
       "3    2\n",
       "4    0\n",
       "dtype: int64"
      ]
     },
     "execution_count": 61,
     "metadata": {},
     "output_type": "execute_result"
    }
   ],
   "source": [
    "y_value_test.head()"
   ]
  },
  {
   "cell_type": "code",
   "execution_count": 62,
   "metadata": {},
   "outputs": [],
   "source": [
    "transform_to_array = x_value_test.to_numpy()\n",
    "\n",
    "y_hat1 = gnb.predict(transform_to_array[0])"
   ]
  },
  {
   "cell_type": "code",
   "execution_count": 63,
   "metadata": {},
   "outputs": [
    {
     "data": {
      "text/plain": [
       "0"
      ]
     },
     "execution_count": 63,
     "metadata": {},
     "output_type": "execute_result"
    }
   ],
   "source": [
    "y_hat1"
   ]
  },
  {
   "cell_type": "code",
   "execution_count": 64,
   "metadata": {},
   "outputs": [
    {
     "data": {
      "text/html": [
       "<div>\n",
       "<style scoped>\n",
       "    .dataframe tbody tr th:only-of-type {\n",
       "        vertical-align: middle;\n",
       "    }\n",
       "\n",
       "    .dataframe tbody tr th {\n",
       "        vertical-align: top;\n",
       "    }\n",
       "\n",
       "    .dataframe thead th {\n",
       "        text-align: right;\n",
       "    }\n",
       "</style>\n",
       "<table border=\"1\" class=\"dataframe\">\n",
       "  <thead>\n",
       "    <tr style=\"text-align: right;\">\n",
       "      <th></th>\n",
       "      <th>Culmen Length (mm)</th>\n",
       "      <th>Culmen Depth (mm)</th>\n",
       "      <th>Flipper Length (mm)</th>\n",
       "    </tr>\n",
       "  </thead>\n",
       "  <tbody>\n",
       "    <tr>\n",
       "      <th>8</th>\n",
       "      <td>34.1</td>\n",
       "      <td>18.1</td>\n",
       "      <td>193.0</td>\n",
       "    </tr>\n",
       "    <tr>\n",
       "      <th>91</th>\n",
       "      <td>41.1</td>\n",
       "      <td>18.1</td>\n",
       "      <td>205.0</td>\n",
       "    </tr>\n",
       "    <tr>\n",
       "      <th>242</th>\n",
       "      <td>47.5</td>\n",
       "      <td>15.0</td>\n",
       "      <td>218.0</td>\n",
       "    </tr>\n",
       "    <tr>\n",
       "      <th>298</th>\n",
       "      <td>43.2</td>\n",
       "      <td>16.6</td>\n",
       "      <td>187.0</td>\n",
       "    </tr>\n",
       "    <tr>\n",
       "      <th>149</th>\n",
       "      <td>37.8</td>\n",
       "      <td>18.1</td>\n",
       "      <td>193.0</td>\n",
       "    </tr>\n",
       "  </tbody>\n",
       "</table>\n",
       "</div>"
      ],
      "text/plain": [
       "     Culmen Length (mm)  Culmen Depth (mm)  Flipper Length (mm)\n",
       "8                  34.1               18.1                193.0\n",
       "91                 41.1               18.1                205.0\n",
       "242                47.5               15.0                218.0\n",
       "298                43.2               16.6                187.0\n",
       "149                37.8               18.1                193.0"
      ]
     },
     "execution_count": 64,
     "metadata": {},
     "output_type": "execute_result"
    }
   ],
   "source": [
    "x_value_test.head()"
   ]
  },
  {
   "cell_type": "code",
   "execution_count": 65,
   "metadata": {},
   "outputs": [
    {
     "data": {
      "text/html": [
       "<div>\n",
       "<style scoped>\n",
       "    .dataframe tbody tr th:only-of-type {\n",
       "        vertical-align: middle;\n",
       "    }\n",
       "\n",
       "    .dataframe tbody tr th {\n",
       "        vertical-align: top;\n",
       "    }\n",
       "\n",
       "    .dataframe thead th {\n",
       "        text-align: right;\n",
       "    }\n",
       "</style>\n",
       "<table border=\"1\" class=\"dataframe\">\n",
       "  <thead>\n",
       "    <tr style=\"text-align: right;\">\n",
       "      <th></th>\n",
       "      <th>Culmen Length (mm)</th>\n",
       "      <th>Culmen Depth (mm)</th>\n",
       "      <th>Flipper Length (mm)</th>\n",
       "    </tr>\n",
       "  </thead>\n",
       "  <tbody>\n",
       "    <tr>\n",
       "      <th>8</th>\n",
       "      <td>34.1</td>\n",
       "      <td>18.1</td>\n",
       "      <td>193.0</td>\n",
       "    </tr>\n",
       "    <tr>\n",
       "      <th>91</th>\n",
       "      <td>41.1</td>\n",
       "      <td>18.1</td>\n",
       "      <td>205.0</td>\n",
       "    </tr>\n",
       "    <tr>\n",
       "      <th>242</th>\n",
       "      <td>47.5</td>\n",
       "      <td>15.0</td>\n",
       "      <td>218.0</td>\n",
       "    </tr>\n",
       "    <tr>\n",
       "      <th>298</th>\n",
       "      <td>43.2</td>\n",
       "      <td>16.6</td>\n",
       "      <td>187.0</td>\n",
       "    </tr>\n",
       "    <tr>\n",
       "      <th>149</th>\n",
       "      <td>37.8</td>\n",
       "      <td>18.1</td>\n",
       "      <td>193.0</td>\n",
       "    </tr>\n",
       "  </tbody>\n",
       "</table>\n",
       "</div>"
      ],
      "text/plain": [
       "     Culmen Length (mm)  Culmen Depth (mm)  Flipper Length (mm)\n",
       "8                  34.1               18.1                193.0\n",
       "91                 41.1               18.1                205.0\n",
       "242                47.5               15.0                218.0\n",
       "298                43.2               16.6                187.0\n",
       "149                37.8               18.1                193.0"
      ]
     },
     "execution_count": 65,
     "metadata": {},
     "output_type": "execute_result"
    }
   ],
   "source": [
    "x_value_test.head()"
   ]
  },
  {
   "cell_type": "code",
   "execution_count": 66,
   "metadata": {},
   "outputs": [
    {
     "data": {
      "text/plain": [
       "0    0\n",
       "1    0\n",
       "2    1\n",
       "3    2\n",
       "4    0\n",
       "dtype: int64"
      ]
     },
     "execution_count": 66,
     "metadata": {},
     "output_type": "execute_result"
    }
   ],
   "source": [
    "y_value_test.head()"
   ]
  },
  {
   "cell_type": "code",
   "execution_count": 67,
   "metadata": {},
   "outputs": [],
   "source": [
    "def get_predict_value(array):\n",
    "    predicts = []\n",
    "    for x_value in array:\n",
    "        y = gnb.predict(x_value)\n",
    "        predicts.append(y)\n",
    "    return predicts\n",
    "        \n",
    "        "
   ]
  },
  {
   "cell_type": "code",
   "execution_count": 68,
   "metadata": {},
   "outputs": [],
   "source": [
    "predicts = get_predict_value(transform_to_array)\n"
   ]
  },
  {
   "cell_type": "code",
   "execution_count": 69,
   "metadata": {},
   "outputs": [
    {
     "name": "stdout",
     "output_type": "stream",
     "text": [
      "              precision    recall  f1-score   support\n",
      "\n",
      "           0       0.98      0.98      0.98        47\n",
      "           1       0.22      0.14      0.17        35\n",
      "           2       0.09      0.14      0.11        22\n",
      "\n",
      "    accuracy                           0.52       104\n",
      "   macro avg       0.43      0.42      0.42       104\n",
      "weighted avg       0.53      0.52      0.52       104\n",
      "\n"
     ]
    }
   ],
   "source": [
    "# matriz de confusao Gaussian\n",
    "from sklearn.metrics import classification_report, confusion_matrix, ConfusionMatrixDisplay\n",
    "import matplotlib.pyplot as plt\n",
    "print(classification_report(y_value_test, predicts))"
   ]
  },
  {
   "cell_type": "code",
   "execution_count": 70,
   "metadata": {},
   "outputs": [
    {
     "data": {
      "text/plain": [
       "<sklearn.metrics._plot.confusion_matrix.ConfusionMatrixDisplay at 0x7f042cf54640>"
      ]
     },
     "execution_count": 70,
     "metadata": {},
     "output_type": "execute_result"
    },
    {
     "data": {
      "image/png": "[encoded data removed]",
      "text/plain": [
       "<Figure size 432x288 with 2 Axes>"
      ]
     },
     "metadata": {
      "needs_background": "light"
     },
     "output_type": "display_data"
    }
   ],
   "source": [
    "cm = confusion_matrix(y_value_test, predicts, labels=[0,1,2])\n",
    "display_confusion_matrix = ConfusionMatrixDisplay(cm, display_labels=[0,1,2])\n",
    "display_confusion_matrix.plot(cmap=plt.cm.Blues)"
   ]
  }
 ],
 "metadata": {
  "interpreter": {
   "hash": "916dbcbb3f70747c44a77c7bcd40155683ae19c65e1c03b4aa3499c5328201f1"
  },
  "kernelspec": {
   "display_name": "Python 3.8.10 64-bit",
   "language": "python",
   "name": "python3"
  },
  "language_info": {
   "codemirror_mode": {
    "name": "ipython",
    "version": 3
   },
   "file_extension": ".py",
   "mimetype": "text/x-python",
   "name": "python",
   "nbconvert_exporter": "python",
   "pygments_lexer": "ipython3",
   "version": "3.8.10"
  },
  "orig_nbformat": 4
 },
 "nbformat": 4,
 "nbformat_minor": 2
}
