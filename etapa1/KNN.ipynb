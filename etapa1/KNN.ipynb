{
 "cells": [
  {
   "cell_type": "code",
   "execution_count": 1,
   "metadata": {},
   "outputs": [],
   "source": [
    "import numpy as np # linear algebra\n",
    "import pandas as pd # data processing, CSV file I/O (e.g. pd.read_csv)\n",
    "import matplotlib.pyplot as plt # for data visualization purposes\n",
    "import math\n",
    "from scipy.stats import mode\n",
    "from sklearn.metrics import classification_report, confusion_matrix, ConfusionMatrixDisplay\n",
    "from sklearn.metrics import accuracy_score\n",
    "from numpy.random import randint"
   ]
  },
  {
   "cell_type": "markdown",
   "metadata": {},
   "source": [
    "# KNN força Bruta"
   ]
  },
  {
   "cell_type": "code",
   "execution_count": 2,
   "metadata": {},
   "outputs": [],
   "source": [
    "#Funcao auxiliar para calcular a distancia\n",
    "def euclidean_distance(data1, data2):\n",
    "    distance = np.sqrt(np.sum((data1 - data2)**2))\n",
    "    return distance"
   ]
  },
  {
   "cell_type": "code",
   "execution_count": 3,
   "metadata": {},
   "outputs": [],
   "source": [
    "def KNN_predict(x_train, y_train, x_test, k):\n",
    "    label = []\n",
    "    # calcula a distancia para cada item na linha de teste\n",
    "    for item in x_test:\n",
    "        dist = []\n",
    "        for j in range(len(x_train)):\n",
    "            distances = euclidean_distance(np.array(x_train[j,:]), item)\n",
    "            dist.append(distances)\n",
    "        dist = np.array(dist)\n",
    "        dist = np.argsort(dist)[:k]\n",
    "        labels = y_train[dist]\n",
    "        lab = mode(labels)\n",
    "        lab = lab.mode[0]\n",
    "        label.append(lab)\n",
    "    return label"
   ]
  },
  {
   "cell_type": "markdown",
   "metadata": {},
   "source": [
    "# Pre processamento Pinguins "
   ]
  },
  {
   "cell_type": "code",
   "execution_count": 4,
   "metadata": {},
   "outputs": [
    {
     "name": "stdout",
     "output_type": "stream",
     "text": [
      "<class 'pandas.core.frame.DataFrame'>\n",
      "RangeIndex: 344 entries, 0 to 343\n",
      "Data columns (total 17 columns):\n",
      " #   Column               Non-Null Count  Dtype  \n",
      "---  ------               --------------  -----  \n",
      " 0   studyName            344 non-null    object \n",
      " 1   Sample Number        344 non-null    int64  \n",
      " 2   Species              344 non-null    object \n",
      " 3   Region               344 non-null    object \n",
      " 4   Island               344 non-null    object \n",
      " 5   Stage                344 non-null    object \n",
      " 6   Individual ID        344 non-null    object \n",
      " 7   Clutch Completion    344 non-null    object \n",
      " 8   Date Egg             344 non-null    object \n",
      " 9   Culmen Length (mm)   342 non-null    float64\n",
      " 10  Culmen Depth (mm)    342 non-null    float64\n",
      " 11  Flipper Length (mm)  342 non-null    float64\n",
      " 12  Body Mass (g)        342 non-null    float64\n",
      " 13  Sex                  334 non-null    object \n",
      " 14  Delta 15 N (o/oo)    330 non-null    float64\n",
      " 15  Delta 13 C (o/oo)    331 non-null    float64\n",
      " 16  Comments             54 non-null     object \n",
      "dtypes: float64(6), int64(1), object(10)\n",
      "memory usage: 45.8+ KB\n"
     ]
    }
   ],
   "source": [
    "penguins = pd.read_csv(\"../penguins.csv\")\n",
    "penguins.info()"
   ]
  },
  {
   "cell_type": "code",
   "execution_count": 5,
   "metadata": {},
   "outputs": [
    {
     "data": {
      "text/html": [
       "<div>\n",
       "<style scoped>\n",
       "    .dataframe tbody tr th:only-of-type {\n",
       "        vertical-align: middle;\n",
       "    }\n",
       "\n",
       "    .dataframe tbody tr th {\n",
       "        vertical-align: top;\n",
       "    }\n",
       "\n",
       "    .dataframe thead th {\n",
       "        text-align: right;\n",
       "    }\n",
       "</style>\n",
       "<table border=\"1\" class=\"dataframe\">\n",
       "  <thead>\n",
       "    <tr style=\"text-align: right;\">\n",
       "      <th></th>\n",
       "      <th>studyName</th>\n",
       "      <th>Sample Number</th>\n",
       "      <th>Species</th>\n",
       "      <th>Region</th>\n",
       "      <th>Island</th>\n",
       "      <th>Stage</th>\n",
       "      <th>Individual ID</th>\n",
       "      <th>Clutch Completion</th>\n",
       "      <th>Date Egg</th>\n",
       "      <th>Culmen Length (mm)</th>\n",
       "      <th>Culmen Depth (mm)</th>\n",
       "      <th>Flipper Length (mm)</th>\n",
       "      <th>Body Mass (g)</th>\n",
       "      <th>Sex</th>\n",
       "      <th>Delta 15 N (o/oo)</th>\n",
       "      <th>Delta 13 C (o/oo)</th>\n",
       "      <th>Comments</th>\n",
       "    </tr>\n",
       "  </thead>\n",
       "  <tbody>\n",
       "    <tr>\n",
       "      <th>0</th>\n",
       "      <td>PAL0708</td>\n",
       "      <td>1</td>\n",
       "      <td>Adelie Penguin (Pygoscelis adeliae)</td>\n",
       "      <td>Anvers</td>\n",
       "      <td>Torgersen</td>\n",
       "      <td>Adult, 1 Egg Stage</td>\n",
       "      <td>N1A1</td>\n",
       "      <td>Yes</td>\n",
       "      <td>2007-11-11</td>\n",
       "      <td>39.1</td>\n",
       "      <td>18.7</td>\n",
       "      <td>181.0</td>\n",
       "      <td>3750.0</td>\n",
       "      <td>MALE</td>\n",
       "      <td>NaN</td>\n",
       "      <td>NaN</td>\n",
       "      <td>Not enough blood for isotopes.</td>\n",
       "    </tr>\n",
       "    <tr>\n",
       "      <th>1</th>\n",
       "      <td>PAL0708</td>\n",
       "      <td>2</td>\n",
       "      <td>Adelie Penguin (Pygoscelis adeliae)</td>\n",
       "      <td>Anvers</td>\n",
       "      <td>Torgersen</td>\n",
       "      <td>Adult, 1 Egg Stage</td>\n",
       "      <td>N1A2</td>\n",
       "      <td>Yes</td>\n",
       "      <td>2007-11-11</td>\n",
       "      <td>39.5</td>\n",
       "      <td>17.4</td>\n",
       "      <td>186.0</td>\n",
       "      <td>3800.0</td>\n",
       "      <td>FEMALE</td>\n",
       "      <td>8.94956</td>\n",
       "      <td>-24.69454</td>\n",
       "      <td>NaN</td>\n",
       "    </tr>\n",
       "    <tr>\n",
       "      <th>2</th>\n",
       "      <td>PAL0708</td>\n",
       "      <td>3</td>\n",
       "      <td>Adelie Penguin (Pygoscelis adeliae)</td>\n",
       "      <td>Anvers</td>\n",
       "      <td>Torgersen</td>\n",
       "      <td>Adult, 1 Egg Stage</td>\n",
       "      <td>N2A1</td>\n",
       "      <td>Yes</td>\n",
       "      <td>2007-11-16</td>\n",
       "      <td>40.3</td>\n",
       "      <td>18.0</td>\n",
       "      <td>195.0</td>\n",
       "      <td>3250.0</td>\n",
       "      <td>FEMALE</td>\n",
       "      <td>8.36821</td>\n",
       "      <td>-25.33302</td>\n",
       "      <td>NaN</td>\n",
       "    </tr>\n",
       "    <tr>\n",
       "      <th>3</th>\n",
       "      <td>PAL0708</td>\n",
       "      <td>4</td>\n",
       "      <td>Adelie Penguin (Pygoscelis adeliae)</td>\n",
       "      <td>Anvers</td>\n",
       "      <td>Torgersen</td>\n",
       "      <td>Adult, 1 Egg Stage</td>\n",
       "      <td>N2A2</td>\n",
       "      <td>Yes</td>\n",
       "      <td>2007-11-16</td>\n",
       "      <td>NaN</td>\n",
       "      <td>NaN</td>\n",
       "      <td>NaN</td>\n",
       "      <td>NaN</td>\n",
       "      <td>NaN</td>\n",
       "      <td>NaN</td>\n",
       "      <td>NaN</td>\n",
       "      <td>Adult not sampled.</td>\n",
       "    </tr>\n",
       "    <tr>\n",
       "      <th>4</th>\n",
       "      <td>PAL0708</td>\n",
       "      <td>5</td>\n",
       "      <td>Adelie Penguin (Pygoscelis adeliae)</td>\n",
       "      <td>Anvers</td>\n",
       "      <td>Torgersen</td>\n",
       "      <td>Adult, 1 Egg Stage</td>\n",
       "      <td>N3A1</td>\n",
       "      <td>Yes</td>\n",
       "      <td>2007-11-16</td>\n",
       "      <td>36.7</td>\n",
       "      <td>19.3</td>\n",
       "      <td>193.0</td>\n",
       "      <td>3450.0</td>\n",
       "      <td>FEMALE</td>\n",
       "      <td>8.76651</td>\n",
       "      <td>-25.32426</td>\n",
       "      <td>NaN</td>\n",
       "    </tr>\n",
       "  </tbody>\n",
       "</table>\n",
       "</div>"
      ],
      "text/plain": [
       "  studyName  Sample Number                              Species  Region  \\\n",
       "0   PAL0708              1  Adelie Penguin (Pygoscelis adeliae)  Anvers   \n",
       "1   PAL0708              2  Adelie Penguin (Pygoscelis adeliae)  Anvers   \n",
       "2   PAL0708              3  Adelie Penguin (Pygoscelis adeliae)  Anvers   \n",
       "3   PAL0708              4  Adelie Penguin (Pygoscelis adeliae)  Anvers   \n",
       "4   PAL0708              5  Adelie Penguin (Pygoscelis adeliae)  Anvers   \n",
       "\n",
       "      Island               Stage Individual ID Clutch Completion    Date Egg  \\\n",
       "0  Torgersen  Adult, 1 Egg Stage          N1A1               Yes  2007-11-11   \n",
       "1  Torgersen  Adult, 1 Egg Stage          N1A2               Yes  2007-11-11   \n",
       "2  Torgersen  Adult, 1 Egg Stage          N2A1               Yes  2007-11-16   \n",
       "3  Torgersen  Adult, 1 Egg Stage          N2A2               Yes  2007-11-16   \n",
       "4  Torgersen  Adult, 1 Egg Stage          N3A1               Yes  2007-11-16   \n",
       "\n",
       "   Culmen Length (mm)  Culmen Depth (mm)  Flipper Length (mm)  Body Mass (g)  \\\n",
       "0                39.1               18.7                181.0         3750.0   \n",
       "1                39.5               17.4                186.0         3800.0   \n",
       "2                40.3               18.0                195.0         3250.0   \n",
       "3                 NaN                NaN                  NaN            NaN   \n",
       "4                36.7               19.3                193.0         3450.0   \n",
       "\n",
       "      Sex  Delta 15 N (o/oo)  Delta 13 C (o/oo)  \\\n",
       "0    MALE                NaN                NaN   \n",
       "1  FEMALE            8.94956          -24.69454   \n",
       "2  FEMALE            8.36821          -25.33302   \n",
       "3     NaN                NaN                NaN   \n",
       "4  FEMALE            8.76651          -25.32426   \n",
       "\n",
       "                         Comments  \n",
       "0  Not enough blood for isotopes.  \n",
       "1                             NaN  \n",
       "2                             NaN  \n",
       "3              Adult not sampled.  \n",
       "4                             NaN  "
      ]
     },
     "execution_count": 5,
     "metadata": {},
     "output_type": "execute_result"
    }
   ],
   "source": [
    "penguins.head()"
   ]
  },
  {
   "cell_type": "code",
   "execution_count": 6,
   "metadata": {},
   "outputs": [
    {
     "name": "stdout",
     "output_type": "stream",
     "text": [
      "<class 'pandas.core.frame.DataFrame'>\n",
      "RangeIndex: 342 entries, 0 to 341\n",
      "Data columns (total 4 columns):\n",
      " #   Column               Non-Null Count  Dtype  \n",
      "---  ------               --------------  -----  \n",
      " 0   Species              342 non-null    object \n",
      " 1   Culmen Length (mm)   342 non-null    float64\n",
      " 2   Culmen Depth (mm)    342 non-null    float64\n",
      " 3   Flipper Length (mm)  342 non-null    float64\n",
      "dtypes: float64(3), object(1)\n",
      "memory usage: 10.8+ KB\n"
     ]
    }
   ],
   "source": [
    "# Descarta colunas que não serão usadas e descarta linhas com valores nulos\n",
    "\n",
    "penguins_numeric_and_target = penguins.drop(columns=[\"studyName\",\"Sample Number\",\"Region\",\"Island\",\"Stage\",\"Individual ID\", \n",
    "                                   \"Clutch Completion\",\"Date Egg\", \"Body Mass (g)\", \"Sex\", \"Delta 15 N (o/oo)\", \"Delta 13 C (o/oo)\", \n",
    "                                   \"Comments\"])\n",
    "\n",
    "penguins_numeric_and_target = penguins_numeric_and_target.dropna()\n",
    "penguins_numeric_and_target = penguins_numeric_and_target.reset_index(drop=True)\n",
    "penguins_numeric_and_target.info()"
   ]
  },
  {
   "cell_type": "code",
   "execution_count": 7,
   "metadata": {},
   "outputs": [],
   "source": [
    "# Normaliza os atributos preditivos através da fórmula (x - média)/desvio\n",
    "\n",
    "penguins_numeric_and_target['Culmen Length Normalizada'] = (penguins_numeric_and_target['Culmen Length (mm)'] - \\\n",
    "                                                           penguins_numeric_and_target['Culmen Length (mm)'].mean()) / \\\n",
    "                                                           penguins_numeric_and_target['Culmen Length (mm)'].std()\n",
    "\n",
    "penguins_numeric_and_target['Culmen Depth Normalizada'] = (penguins_numeric_and_target['Culmen Depth (mm)'] - \\\n",
    "                                                           penguins_numeric_and_target['Culmen Depth (mm)'].mean()) / \\\n",
    "                                                           penguins_numeric_and_target['Culmen Depth (mm)'].std()\n",
    "\n",
    "penguins_numeric_and_target['Flipper Length Normalizada'] = (penguins_numeric_and_target['Flipper Length (mm)'] - \\\n",
    "                                                           penguins_numeric_and_target['Flipper Length (mm)'].mean()) / \\\n",
    "                                                           penguins_numeric_and_target['Flipper Length (mm)'].std()"
   ]
  },
  {
   "cell_type": "code",
   "execution_count": 8,
   "metadata": {},
   "outputs": [],
   "source": [
    "# Transforma a coluna alvo Y para classes numéricas\n",
    "\n",
    "penguins_numeric_and_target['Species-Numeric-Class'] = 0\n",
    "penguins_numeric_and_target.loc[penguins_numeric_and_target['Species']=='Gentoo penguin (Pygoscelis papua)','Species-Numeric-Class'] = 1\n",
    "penguins_numeric_and_target.loc[penguins_numeric_and_target['Species']=='Chinstrap penguin (Pygoscelis antarctica)','Species-Numeric-Class'] = 2"
   ]
  },
  {
   "cell_type": "code",
   "execution_count": 9,
   "metadata": {},
   "outputs": [],
   "source": [
    "# Descarta as colunas sem o pré-processamento feito acima\n",
    "\n",
    "penguins_numeric_and_target = penguins_numeric_and_target.drop(columns=['Culmen Length (mm)', 'Culmen Depth (mm)', \n",
    "                                                                        'Flipper Length (mm)', \"Species\"])"
   ]
  },
  {
   "cell_type": "code",
   "execution_count": 10,
   "metadata": {},
   "outputs": [
    {
     "data": {
      "text/html": [
       "<div>\n",
       "<style scoped>\n",
       "    .dataframe tbody tr th:only-of-type {\n",
       "        vertical-align: middle;\n",
       "    }\n",
       "\n",
       "    .dataframe tbody tr th {\n",
       "        vertical-align: top;\n",
       "    }\n",
       "\n",
       "    .dataframe thead th {\n",
       "        text-align: right;\n",
       "    }\n",
       "</style>\n",
       "<table border=\"1\" class=\"dataframe\">\n",
       "  <thead>\n",
       "    <tr style=\"text-align: right;\">\n",
       "      <th></th>\n",
       "      <th>Culmen Length Normalizada</th>\n",
       "      <th>Culmen Depth Normalizada</th>\n",
       "      <th>Flipper Length Normalizada</th>\n",
       "      <th>Species-Numeric-Class</th>\n",
       "    </tr>\n",
       "  </thead>\n",
       "  <tbody>\n",
       "    <tr>\n",
       "      <th>0</th>\n",
       "      <td>-0.883205</td>\n",
       "      <td>0.784300</td>\n",
       "      <td>-1.416272</td>\n",
       "      <td>0</td>\n",
       "    </tr>\n",
       "    <tr>\n",
       "      <th>1</th>\n",
       "      <td>-0.809939</td>\n",
       "      <td>0.126003</td>\n",
       "      <td>-1.060696</td>\n",
       "      <td>0</td>\n",
       "    </tr>\n",
       "    <tr>\n",
       "      <th>2</th>\n",
       "      <td>-0.663408</td>\n",
       "      <td>0.429833</td>\n",
       "      <td>-0.420660</td>\n",
       "      <td>0</td>\n",
       "    </tr>\n",
       "    <tr>\n",
       "      <th>3</th>\n",
       "      <td>-1.322799</td>\n",
       "      <td>1.088129</td>\n",
       "      <td>-0.562890</td>\n",
       "      <td>0</td>\n",
       "    </tr>\n",
       "    <tr>\n",
       "      <th>4</th>\n",
       "      <td>-0.846572</td>\n",
       "      <td>1.746426</td>\n",
       "      <td>-0.776236</td>\n",
       "      <td>0</td>\n",
       "    </tr>\n",
       "  </tbody>\n",
       "</table>\n",
       "</div>"
      ],
      "text/plain": [
       "   Culmen Length Normalizada  Culmen Depth Normalizada  \\\n",
       "0                  -0.883205                  0.784300   \n",
       "1                  -0.809939                  0.126003   \n",
       "2                  -0.663408                  0.429833   \n",
       "3                  -1.322799                  1.088129   \n",
       "4                  -0.846572                  1.746426   \n",
       "\n",
       "   Flipper Length Normalizada  Species-Numeric-Class  \n",
       "0                   -1.416272                      0  \n",
       "1                   -1.060696                      0  \n",
       "2                   -0.420660                      0  \n",
       "3                   -0.562890                      0  \n",
       "4                   -0.776236                      0  "
      ]
     },
     "execution_count": 10,
     "metadata": {},
     "output_type": "execute_result"
    }
   ],
   "source": [
    "penguins_numeric_and_target.head()"
   ]
  },
  {
   "cell_type": "code",
   "execution_count": 11,
   "metadata": {},
   "outputs": [
    {
     "data": {
      "text/html": [
       "<div>\n",
       "<style scoped>\n",
       "    .dataframe tbody tr th:only-of-type {\n",
       "        vertical-align: middle;\n",
       "    }\n",
       "\n",
       "    .dataframe tbody tr th {\n",
       "        vertical-align: top;\n",
       "    }\n",
       "\n",
       "    .dataframe thead th {\n",
       "        text-align: right;\n",
       "    }\n",
       "</style>\n",
       "<table border=\"1\" class=\"dataframe\">\n",
       "  <thead>\n",
       "    <tr style=\"text-align: right;\">\n",
       "      <th></th>\n",
       "      <th>Culmen Length Normalizada</th>\n",
       "      <th>Culmen Depth Normalizada</th>\n",
       "      <th>Flipper Length Normalizada</th>\n",
       "    </tr>\n",
       "  </thead>\n",
       "  <tbody>\n",
       "    <tr>\n",
       "      <th>319</th>\n",
       "      <td>1.259816</td>\n",
       "      <td>0.683024</td>\n",
       "      <td>0.006030</td>\n",
       "    </tr>\n",
       "    <tr>\n",
       "      <th>120</th>\n",
       "      <td>-1.139634</td>\n",
       "      <td>1.341320</td>\n",
       "      <td>-0.207315</td>\n",
       "    </tr>\n",
       "    <tr>\n",
       "      <th>341</th>\n",
       "      <td>1.149917</td>\n",
       "      <td>0.784300</td>\n",
       "      <td>-0.207315</td>\n",
       "    </tr>\n",
       "    <tr>\n",
       "      <th>118</th>\n",
       "      <td>-0.516876</td>\n",
       "      <td>0.733662</td>\n",
       "      <td>-0.847351</td>\n",
       "    </tr>\n",
       "    <tr>\n",
       "      <th>87</th>\n",
       "      <td>-1.029736</td>\n",
       "      <td>1.037491</td>\n",
       "      <td>-0.847351</td>\n",
       "    </tr>\n",
       "  </tbody>\n",
       "</table>\n",
       "</div>"
      ],
      "text/plain": [
       "     Culmen Length Normalizada  Culmen Depth Normalizada  \\\n",
       "319                   1.259816                  0.683024   \n",
       "120                  -1.139634                  1.341320   \n",
       "341                   1.149917                  0.784300   \n",
       "118                  -0.516876                  0.733662   \n",
       "87                   -1.029736                  1.037491   \n",
       "\n",
       "     Flipper Length Normalizada  \n",
       "319                    0.006030  \n",
       "120                   -0.207315  \n",
       "341                   -0.207315  \n",
       "118                   -0.847351  \n",
       "87                    -0.847351  "
      ]
     },
     "execution_count": 11,
     "metadata": {},
     "output_type": "execute_result"
    }
   ],
   "source": [
    "# Calcula 70% do dataset, para separar em 70/30\n",
    "data_set_70_por_cento = math.ceil((len(penguins_numeric_and_target)/100)*70)\n",
    "\n",
    "# Embaralha os dados antes de separá-los \n",
    "penguins_embaralhado = penguins_numeric_and_target.sample(frac=1)\n",
    "\n",
    "# Separa em dados de treino e teste\n",
    "penguins_treino = penguins_embaralhado.iloc[0:data_set_70_por_cento]\n",
    "penguins_teste = penguins_embaralhado.iloc[data_set_70_por_cento:]\n",
    "penguins_treino_x = penguins_treino.drop(columns=['Species-Numeric-Class'])\n",
    "penguins_treino_y = penguins_treino[\"Species-Numeric-Class\"]\n",
    "penguins_treino_x.head()"
   ]
  },
  {
   "cell_type": "code",
   "execution_count": 12,
   "metadata": {},
   "outputs": [],
   "source": [
    "# Separa os dados de teste entre atributos preditivos e atributo-alvo\n",
    "penguins_teste_y = penguins_teste[\"Species-Numeric-Class\"]\n",
    "penguins_teste_x = penguins_teste.drop(columns=[\"Species-Numeric-Class\"])\n"
   ]
  },
  {
   "cell_type": "markdown",
   "metadata": {},
   "source": [
    "# Treinamento e Inferência KNN Força Bruta"
   ]
  },
  {
   "cell_type": "code",
   "execution_count": 13,
   "metadata": {},
   "outputs": [],
   "source": [
    "predicoes = KNN_predict(penguins_treino_x.to_numpy(), penguins_treino_y.to_numpy(), penguins_teste_x.to_numpy() , 5)\n"
   ]
  },
  {
   "cell_type": "code",
   "execution_count": 14,
   "metadata": {},
   "outputs": [
    {
     "name": "stdout",
     "output_type": "stream",
     "text": [
      "              precision    recall  f1-score   support\n",
      "\n",
      "           0       0.97      1.00      0.99        38\n",
      "           1       1.00      1.00      1.00        40\n",
      "           2       1.00      0.96      0.98        24\n",
      "\n",
      "    accuracy                           0.99       102\n",
      "   macro avg       0.99      0.99      0.99       102\n",
      "weighted avg       0.99      0.99      0.99       102\n",
      "\n"
     ]
    }
   ],
   "source": [
    "# Métricas de de acurácia, precisão, recall e f1\n",
    "print(classification_report(penguins_teste_y, predicoes))"
   ]
  },
  {
   "cell_type": "code",
   "execution_count": 15,
   "metadata": {},
   "outputs": [
    {
     "data": {
      "image/png": "[encoded data removed]",
      "text/plain": [
       "<Figure size 432x288 with 2 Axes>"
      ]
     },
     "metadata": {
      "needs_background": "light"
     },
     "output_type": "display_data"
    }
   ],
   "source": [
    "# Matriz de confusão\n",
    "cm = confusion_matrix(penguins_teste_y, predicoes, labels=[0,1,2])\n",
    "display_confusion_matrix = ConfusionMatrixDisplay(cm, display_labels=[0,1,2])\n",
    "display_confusion_matrix.plot(cmap=plt.cm.Blues)\n",
    "plt.show()"
   ]
  },
  {
   "cell_type": "markdown",
   "metadata": {},
   "source": [
    "# KNN com KDTree"
   ]
  },
  {
   "cell_type": "code",
   "execution_count": 16,
   "metadata": {},
   "outputs": [],
   "source": [
    "# Métodos e classes auxiliares\n",
    "\n",
    "def distancia_euclidiana(data1, data2):\n",
    "    \n",
    "    # Para int e float\n",
    "    if isinstance(data1, int) or isinstance(data1, float):\n",
    "        return math.sqrt((data1 - data2) ** 2)\n",
    "    \n",
    "    # Para arrays\n",
    "    distancia = 0\n",
    "    \n",
    "    for i in range(len(data1)):\n",
    "        distancia += (data1[i] - data2[i]) ** 2\n",
    "    distancia = math.sqrt(distancia)\n",
    "    \n",
    "    return distancia\n",
    "\n",
    "class Nodo:\n",
    "    \n",
    "    def __init__(self, data):\n",
    "        self.left = None\n",
    "        self.right = None\n",
    "        self.data = data.values[:-1]\n",
    "        self.classe = int(data.values[-1])\n",
    "    \n",
    "    def Print(self):\n",
    "        print(\"X: \" + str(self.data))\n",
    "        print(\"Y: \" + str(self.classe))\n",
    "\n",
    "class kD_tree:\n",
    "    \n",
    "    def __init__(self, df=None):\n",
    "        if df is not None:\n",
    "            self.kD_tree = self.create_kD_tree(df)\n",
    "    \n",
    "    def train(self, df):\n",
    "        self.kD_tree = self.create_kD_tree(df)\n",
    "    \n",
    "    # Os dois métodos abaixo \n",
    "    def create_kD_tree(self, df):\n",
    "        root = self.kD_tree_nodo(df, 0)\n",
    "        return root\n",
    "    \n",
    "    def kD_tree_nodo(self, df, featureNum):\n",
    "\n",
    "        if len(df) == 0:\n",
    "            return None\n",
    "        if len(df) == 1:\n",
    "            return Nodo(df.iloc[0])\n",
    "\n",
    "        df.sort_values(by=df.columns.values[featureNum], inplace=True)\n",
    "\n",
    "        if (len(df) % 2 == 0):\n",
    "            median_index = (len(df)//2) - 1\n",
    "        else:\n",
    "            median_index = len(df)//2\n",
    "\n",
    "        novoNodo = Nodo(df.iloc[median_index])\n",
    "        novoNodo.left = self.kD_tree_nodo(df[:median_index], (featureNum + 1) % (len(df.columns) - 1))\n",
    "        novoNodo.right = self.kD_tree_nodo(df[median_index + 1:], (featureNum + 1) % (len(df.columns) - 1))\n",
    "        \n",
    "        return novoNodo\n",
    "    \n",
    "    # Algoritmo como o mostrado em aula, adaptado para manter a menor distância já calculada\n",
    "    def vizinho_mais_proximo(self, n, search_point, c_neighbor, indice_feature, menor_distancia):\n",
    "\n",
    "        if n is None: \n",
    "            return c_neighbor, menor_distancia\n",
    "\n",
    "        distancia_atual = distancia_euclidiana(n.data, search_point)\n",
    "        if distancia_atual < menor_distancia:\n",
    "            menor_distancia = distancia_atual\n",
    "            c_neighbor = n\n",
    "\n",
    "        if n.data[indice_feature] > search_point[indice_feature]:\n",
    "            good_side= n.left\n",
    "            bad_side = n.right\n",
    "        else:\n",
    "            good_side = n.right\n",
    "            bad_side = n.left\n",
    "\n",
    "        c_neighbor, menor_distancia = self.vizinho_mais_proximo(good_side, search_point, c_neighbor, \n",
    "                                                               (indice_feature + 1) % len(search_point), menor_distancia)\n",
    "\n",
    "        if self.vale_buscar(c_neighbor, bad_side, indice_feature, menor_distancia):\n",
    "            c_neighbor, menor_distancia = self.vizinho_mais_proximo(bad_side, search_point, c_neighbor,\n",
    "                                                                   (indice_feature + 1) % len(search_point), menor_distancia)\n",
    "\n",
    "        return c_neighbor, menor_distancia\n",
    "    \n",
    "    def vale_buscar(self, nodo_mais_proximo, nodo_testado, indice_feature, menor_distancia):\n",
    "        if nodo_testado is None:\n",
    "            return False\n",
    "\n",
    "        distancia_minima = distancia_euclidiana(nodo_testado.data[indice_feature], nodo_mais_proximo.data[indice_feature])\n",
    "\n",
    "        return distancia_minima <= menor_distancia\n",
    "\n",
    "    def predicao(self, X, maisInfo = False):\n",
    "        vizinho, distancia = self.vizinho_mais_proximo(self.kD_tree, X, self.kD_tree, 0, distancia_euclidiana(self.kD_tree.data, X))\n",
    "        if maisInfo:\n",
    "            return vizinho.classe, vizinho.data, distancia\n",
    "        else:\n",
    "            return vizinho.classe\n",
    "        "
   ]
  },
  {
   "cell_type": "markdown",
   "metadata": {},
   "source": [
    "# Treinamento e Inferência KDTree"
   ]
  },
  {
   "cell_type": "code",
   "execution_count": 17,
   "metadata": {},
   "outputs": [],
   "source": [
    "# Calcula 70% do dataset, para separar em 70/30\n",
    "data_set_70_por_cento = math.ceil((len(penguins_numeric_and_target)/100)*70)\n",
    "\n",
    "# Embaralha os dados antes de separá-los \n",
    "penguins_embaralhado = penguins_numeric_and_target.sample(frac=1)\n",
    "\n",
    "# Separa em dados de treino e teste\n",
    "penguins_treino = penguins_embaralhado.iloc[0:data_set_70_por_cento]\n",
    "penguins_teste = penguins_embaralhado.iloc[data_set_70_por_cento:]"
   ]
  },
  {
   "cell_type": "code",
   "execution_count": 18,
   "metadata": {},
   "outputs": [
    {
     "name": "stderr",
     "output_type": "stream",
     "text": [
      "/tmp/ipykernel_23856/2766908779.py:51: SettingWithCopyWarning: \n",
      "A value is trying to be set on a copy of a slice from a DataFrame\n",
      "\n",
      "See the caveats in the documentation: https://pandas.pydata.org/pandas-docs/stable/user_guide/indexing.html#returning-a-view-versus-a-copy\n",
      "  df.sort_values(by=df.columns.values[featureNum], inplace=True)\n"
     ]
    }
   ],
   "source": [
    "# Constroi a KDTree com base nos dados de teste\n",
    "penguins_kD_tree = kD_tree(penguins_treino)"
   ]
  },
  {
   "cell_type": "code",
   "execution_count": 19,
   "metadata": {},
   "outputs": [],
   "source": [
    "# Separa os dados de teste entre atributos preditivos e atributo-alvo\n",
    "penguins_teste_y = penguins_teste[\"Species-Numeric-Class\"]\n",
    "penguins_teste_x = penguins_teste.drop(columns=[\"Species-Numeric-Class\"])"
   ]
  },
  {
   "cell_type": "code",
   "execution_count": 20,
   "metadata": {},
   "outputs": [],
   "source": [
    "# Faz as predições com base nos atributos preditivos de teste\n",
    "predicoes = []\n",
    "for x_value in penguins_teste_x.to_numpy():\n",
    "    y = penguins_kD_tree.predicao(np.array(x_value))\n",
    "    predicoes.append(y)"
   ]
  },
  {
   "cell_type": "code",
   "execution_count": 21,
   "metadata": {},
   "outputs": [
    {
     "name": "stdout",
     "output_type": "stream",
     "text": [
      "              precision    recall  f1-score   support\n",
      "\n",
      "           0       0.96      0.96      0.96        47\n",
      "           1       1.00      0.97      0.99        38\n",
      "           2       0.89      0.94      0.91        17\n",
      "\n",
      "    accuracy                           0.96       102\n",
      "   macro avg       0.95      0.96      0.95       102\n",
      "weighted avg       0.96      0.96      0.96       102\n",
      "\n"
     ]
    }
   ],
   "source": [
    "# Métricas de de acurácia, precisão, recall e f1\n",
    "print(classification_report(penguins_teste_y, predicoes))"
   ]
  },
  {
   "cell_type": "code",
   "execution_count": 22,
   "metadata": {},
   "outputs": [
    {
     "data": {
      "image/png": "[encoded data removed]",
      "text/plain": [
       "<Figure size 432x288 with 2 Axes>"
      ]
     },
     "metadata": {
      "needs_background": "light"
     },
     "output_type": "display_data"
    }
   ],
   "source": [
    "# Matriz de confusão\n",
    "cm = confusion_matrix(penguins_teste_y, predicoes, labels=[0,1,2])\n",
    "display_confusion_matrix = ConfusionMatrixDisplay(cm, display_labels=[0,1,2])\n",
    "display_confusion_matrix.plot(cmap=plt.cm.Blues)\n",
    "plt.show()"
   ]
  }
 ],
 "metadata": {
  "interpreter": {
   "hash": "916dbcbb3f70747c44a77c7bcd40155683ae19c65e1c03b4aa3499c5328201f1"
  },
  "kernelspec": {
   "display_name": "Python 3.8.10 64-bit",
   "language": "python",
   "name": "python3"
  },
  "language_info": {
   "codemirror_mode": {
    "name": "ipython",
    "version": 3
   },
   "file_extension": ".py",
   "mimetype": "text/x-python",
   "name": "python",
   "nbconvert_exporter": "python",
   "pygments_lexer": "ipython3",
   "version": "3.8.10"
  },
  "orig_nbformat": 4
 },
 "nbformat": 4,
 "nbformat_minor": 2
}
