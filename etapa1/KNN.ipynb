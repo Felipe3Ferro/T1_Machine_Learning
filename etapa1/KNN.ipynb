{
 "cells": [
  {
   "cell_type": "code",
   "execution_count": 2,
   "metadata": {},
   "outputs": [],
   "source": [
    "import numpy as np # linear algebra\n",
    "import pandas as pd # data processing, CSV file I/O (e.g. pd.read_csv)\n",
    "import matplotlib.pyplot as plt # for data visualization purposes\n",
    "import seaborn as sns # for statistical data visualization"
   ]
  },
  {
   "cell_type": "markdown",
   "metadata": {},
   "source": [
    "# KNN força Bruta"
   ]
  },
  {
   "cell_type": "code",
   "execution_count": 3,
   "metadata": {},
   "outputs": [],
   "source": [
    "#Funcao auxiliar para calcular a distancia\n",
    "def euclidean_distance(data1, data2):\n",
    "    distance = np.sqrt(np.sum((data1 - data2)**2))\n",
    "    return distance"
   ]
  },
  {
   "cell_type": "code",
   "execution_count": 4,
   "metadata": {},
   "outputs": [],
   "source": [
    "def KNN_predict(x_train, y_train, x_test, k):\n",
    "    label = []\n",
    "    # calcula a distancia para cada item na linha de teste\n",
    "    for item in x_test:\n",
    "        dist = []\n",
    "        for j in range(len(x_train)):\n",
    "            distances = euclidean_distance(np.array(x_train[j,:]), item)\n",
    "            dist.append(distances)\n",
    "        dist = np.array(dist)\n",
    "        dist = np.argsort(dist)[:k]\n",
    "        labels = y_train[dist]\n",
    "        lab = mode(labels)\n",
    "        lab = lab.mode[0]\n",
    "        label.append(lab)\n",
    "    return label"
   ]
  },
  {
   "cell_type": "code",
   "execution_count": 7,
   "metadata": {},
   "outputs": [
    {
     "name": "stdout",
     "output_type": "stream",
     "text": [
      "<class 'pandas.core.frame.DataFrame'>\n",
      "RangeIndex: 344 entries, 0 to 343\n",
      "Data columns (total 17 columns):\n",
      " #   Column               Non-Null Count  Dtype  \n",
      "---  ------               --------------  -----  \n",
      " 0   studyName            344 non-null    object \n",
      " 1   Sample Number        344 non-null    int64  \n",
      " 2   Species              344 non-null    object \n",
      " 3   Region               344 non-null    object \n",
      " 4   Island               344 non-null    object \n",
      " 5   Stage                344 non-null    object \n",
      " 6   Individual ID        344 non-null    object \n",
      " 7   Clutch Completion    344 non-null    object \n",
      " 8   Date Egg             344 non-null    object \n",
      " 9   Culmen Length (mm)   342 non-null    float64\n",
      " 10  Culmen Depth (mm)    342 non-null    float64\n",
      " 11  Flipper Length (mm)  342 non-null    float64\n",
      " 12  Body Mass (g)        342 non-null    float64\n",
      " 13  Sex                  334 non-null    object \n",
      " 14  Delta 15 N (o/oo)    330 non-null    float64\n",
      " 15  Delta 13 C (o/oo)    331 non-null    float64\n",
      " 16  Comments             54 non-null     object \n",
      "dtypes: float64(6), int64(1), object(10)\n",
      "memory usage: 45.8+ KB\n"
     ]
    }
   ],
   "source": [
    "penguins = pd.read_csv(\"../penguins.csv\")\n",
    "penguins.info()"
   ]
  },
  {
   "cell_type": "markdown",
   "metadata": {},
   "source": []
  }
 ],
 "metadata": {
  "interpreter": {
   "hash": "916dbcbb3f70747c44a77c7bcd40155683ae19c65e1c03b4aa3499c5328201f1"
  },
  "kernelspec": {
   "display_name": "Python 3.8.10 64-bit",
   "language": "python",
   "name": "python3"
  },
  "language_info": {
   "codemirror_mode": {
    "name": "ipython",
    "version": 3
   },
   "file_extension": ".py",
   "mimetype": "text/x-python",
   "name": "python",
   "nbconvert_exporter": "python",
   "pygments_lexer": "ipython3",
   "version": "3.8.10"
  },
  "orig_nbformat": 4
 },
 "nbformat": 4,
 "nbformat_minor": 2
}
